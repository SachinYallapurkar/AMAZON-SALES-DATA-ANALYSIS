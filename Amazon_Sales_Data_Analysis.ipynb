{
  "nbformat": 4,
  "nbformat_minor": 0,
  "metadata": {
    "colab": {
      "provenance": [],
      "mount_file_id": "1U4gBXZ3tkVqTVxmZ2QeiZPcj4ACNP10h",
      "authorship_tag": "ABX9TyPUxs83/R96XcbkZz26pFz5",
      "include_colab_link": true
    },
    "kernelspec": {
      "name": "python3",
      "display_name": "Python 3"
    },
    "language_info": {
      "name": "python"
    }
  },
  "cells": [
    {
      "cell_type": "markdown",
      "metadata": {
        "id": "view-in-github",
        "colab_type": "text"
      },
      "source": [
        "<a href=\"https://colab.research.google.com/github/SachinYallapurkar/AMAZON-SALES-DATA-ANALYSIS/blob/main/Amazon_Sales_Data_Analysis.ipynb\" target=\"_parent\"><img src=\"https://colab.research.google.com/assets/colab-badge.svg\" alt=\"Open In Colab\"/></a>"
      ]
    },
    {
      "cell_type": "markdown",
      "source": [
        "#**AMAZON SALES DATA ANALYSIS**"
      ],
      "metadata": {
        "id": "RDrv0OaGUywk"
      }
    },
    {
      "cell_type": "markdown",
      "source": [
        "**Objective**"
      ],
      "metadata": {
        "id": "ED21fNaoV5bm"
      }
    },
    {
      "cell_type": "markdown",
      "source": [
        "To Understand how were the sales for different items."
      ],
      "metadata": {
        "id": "6FYcGzzKWDtT"
      }
    },
    {
      "cell_type": "markdown",
      "source": [
        "Importing Required Libraries:"
      ],
      "metadata": {
        "id": "hsGBU79lWhy1"
      }
    },
    {
      "cell_type": "code",
      "source": [
        "import numpy as np\n",
        "import pandas as pd\n",
        "import seaborn as sns\n",
        "import matplotlib.pyplot as plt"
      ],
      "metadata": {
        "id": "cjqyqqRGVIcp"
      },
      "execution_count": 8,
      "outputs": []
    },
    {
      "cell_type": "markdown",
      "source": [
        "**Mounting Google Drive**"
      ],
      "metadata": {
        "id": "6fn6wEGDa0CH"
      }
    },
    {
      "cell_type": "code",
      "source": [
        "from google.colab import drive\n",
        "drive.mount('/content/mount/')"
      ],
      "metadata": {
        "colab": {
          "base_uri": "https://localhost:8080/"
        },
        "id": "QfB-nklFVIZX",
        "outputId": "e91f0a6f-4ab8-43d1-a5a5-d9f73b7a0406"
      },
      "execution_count": 6,
      "outputs": [
        {
          "output_type": "stream",
          "name": "stdout",
          "text": [
            "Mounted at /content/mount/\n"
          ]
        }
      ]
    },
    {
      "cell_type": "markdown",
      "source": [
        "**Reading Excel File From Drive**"
      ],
      "metadata": {
        "id": "_n4_rC21bErj"
      }
    },
    {
      "cell_type": "code",
      "source": [
        "sales_data=pd.read_excel(io='/content/drive/MyDrive/Amazon_Sales_Data_Analysis/SALESDATA.xlsx')"
      ],
      "metadata": {
        "id": "W63YLWR6VIVJ"
      },
      "execution_count": 12,
      "outputs": []
    },
    {
      "cell_type": "code",
      "source": [
        "sales_data.shape\n"
      ],
      "metadata": {
        "colab": {
          "base_uri": "https://localhost:8080/"
        },
        "id": "IjaEV2MdVIRY",
        "outputId": "01484d60-cf0b-4c9b-d4a2-416d56d75bcc"
      },
      "execution_count": 15,
      "outputs": [
        {
          "output_type": "execute_result",
          "data": {
            "text/plain": [
              "(65282, 20)"
            ]
          },
          "metadata": {},
          "execution_count": 15
        }
      ]
    },
    {
      "cell_type": "code",
      "source": [],
      "metadata": {
        "id": "iXoXSRsIVHig"
      },
      "execution_count": null,
      "outputs": []
    }
  ]
}